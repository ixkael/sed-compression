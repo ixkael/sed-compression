{
 "cells": [
  {
   "cell_type": "code",
   "execution_count": 1,
   "metadata": {},
   "outputs": [],
   "source": [
    "%matplotlib inline\n",
    "import matplotlib.pyplot as plt\n",
    "import numpy as np\n",
    "from sedmodels import Sedmodel\n",
    "from mlmodels import train_encoder"
   ]
  },
  {
   "cell_type": "code",
   "execution_count": 2,
   "metadata": {},
   "outputs": [
    {
     "name": "stdout",
     "output_type": "stream",
     "text": [
      "Number of dimensions: 6\n",
      "\n",
      "Filters:\n",
      "  [<class 'sedpy.observate.Filter'>(sdss_u0), <class 'sedpy.observate.Filter'>(sdss_g0), <class 'sedpy.observate.Filter'>(sdss_r0), <class 'sedpy.observate.Filter'>(sdss_i0), <class 'sedpy.observate.Filter'>(sdss_z0)]\n",
      "\n",
      "Free Parameters:\n",
      "  ['zred', 'mass', 'logzsol', 'dust2', 'tage', 'tau']\n",
      "\n",
      "Fixed Parameters:\n",
      "  ['sfh', 'imf_type', 'dust_type']\n"
     ]
    }
   ],
   "source": [
    "model = Sedmodel(add_dust=False, add_neb=False, add_zred=True, add_burst=False)"
   ]
  },
  {
   "cell_type": "markdown",
   "metadata": {},
   "source": [
    "# Compute grid of models"
   ]
  },
  {
   "cell_type": "code",
   "execution_count": 3,
   "metadata": {},
   "outputs": [
    {
     "name": "stdout",
     "output_type": "stream",
     "text": [
      "\n",
      "Number of samples: 46656\n"
     ]
    }
   ],
   "source": [
    "if True: # Load model grid\n",
    "\n",
    "    num_samples_per_dim = 6\n",
    "    u_grid = np.load('data/u_grid_'+str(num_samples_per_dim)+'.npy')\n",
    "    theta_grid = np.load('data/theta_grid_'+str(num_samples_per_dim)+'.npy')\n",
    "    phot_grid = np.load('data/phot_grid_'+str(num_samples_per_dim)+'.npy')\n",
    "\n",
    "    num_samples = u_grid.shape[0]\n",
    "    print(\"\\nNumber of samples:\", num_samples)\n",
    "\n",
    "else: # Create and write model grid\n",
    "\n",
    "    if True:\n",
    "        num_samples_per_dim = 6\n",
    "        num_samples = num_samples_per_dim**model.num_dim\n",
    "        grids = np.meshgrid(*[np.linspace(0, 1, num_samples_per_dim) for _ in range(model.num_dim)])\n",
    "        u_grid = np.vstack([x.ravel() for x in grids]).T\n",
    "        del grids\n",
    "    else:\n",
    "        num_samples = 10\n",
    "        num_samples_per_dim = 0\n",
    "        u_grid = np.random.uniform(size=num_samples*model.num_dim).reshape((num_samples, model.num_dim))\n",
    "        \n",
    "    print(\"\\nNumber of samples:\", num_samples)\n",
    "\n",
    "    theta_grid, phot_grid, times = model.compute_photsed_grid(u_grid, plot_sed=False)\n",
    "    \n",
    "    np.save('data/u_grid_'+str(num_samples_per_dim)+'.npy', u_grid)\n",
    "    np.save('data/theta_grid_'+str(num_samples_per_dim)+'.npy', theta_grid)\n",
    "    np.save('data/phot_grid_'+str(num_samples_per_dim)+'.npy', phot_grid)\n",
    "    \n",
    "    print('Done in', np.sum(times), 'sec')\n",
    "    \n",
    "    plt.hist(times)\n",
    "    \n",
    "phot_grid = -2.5*np.log10(phot_grid)"
   ]
  },
  {
   "cell_type": "markdown",
   "metadata": {},
   "source": [
    "## Prepare training and validation"
   ]
  },
  {
   "cell_type": "code",
   "execution_count": 4,
   "metadata": {},
   "outputs": [
    {
     "name": "stdout",
     "output_type": "stream",
     "text": [
      "Number of samples: 46656\n",
      "Number of training points: 32659\n",
      "Number of validation points: 13997\n",
      "Dimension of parameter space 6\n",
      "Dimension of model space 5\n"
     ]
    }
   ],
   "source": [
    "num_samples = u_grid.shape[0]\n",
    "print(\"Number of samples:\", num_samples)\n",
    "\n",
    "#ind_train = np.arange(0, int(1*n_seds/8))\n",
    "ind_all = np.arange(num_samples)\n",
    "np.random.shuffle(ind_all)\n",
    "\n",
    "split = int(0.8*num_samples)\n",
    "ind_train = ind_all[:split]\n",
    "ind_valid = ind_all[split:]\n",
    "\n",
    "print(\"Number of training points:\", ind_train.size)\n",
    "print(\"Number of validation points:\", ind_valid.size)\n",
    "\n",
    "print(\"Dimension of parameter space\", u_grid.shape[1])\n",
    "print(\"Dimension of model space\", phot_grid.shape[1])\n",
    "\n",
    "train_params, train_models = u_grid[ind_train, :], phot_grid[ind_train, :]\n",
    "valid_params, valid_models = theta_grid[ind_valid, :], phot_grid[ind_valid, :]"
   ]
  },
  {
   "cell_type": "markdown",
   "metadata": {},
   "source": [
    "# Auto-encoder"
   ]
  },
  {
   "cell_type": "code",
   "execution_count": 5,
   "metadata": {},
   "outputs": [],
   "source": [
    "batch_size = 2048\n",
    "keep_prob = 0.8\n",
    "num_epoch = 2000\n",
    "num_latent = 3\n",
    "learning_rate = 0.01\n",
    "num_hiddens = [200]"
   ]
  },
  {
   "cell_type": "code",
   "execution_count": 6,
   "metadata": {},
   "outputs": [
    {
     "name": "stdout",
     "output_type": "stream",
     "text": [
      "0 4.173e+02 ; 100 2.087e+00 ; 200 1.792e+00 ; "
     ]
    }
   ],
   "source": [
    "train_params_out, train_latent, train_models_out, valid_params_out, valid_latent, valid_models_out = \\\n",
    "    train_encoder(train_params, train_models, valid_params, valid_models,\n",
    "                  num_latent, num_hiddens, num_epoch, learning_rate, batch_size, keep_prob)"
   ]
  },
  {
   "cell_type": "markdown",
   "metadata": {},
   "source": [
    "## Verify latent reconstruction quality on training and validation (interpolation)"
   ]
  },
  {
   "cell_type": "code",
   "execution_count": 7,
   "metadata": {},
   "outputs": [
    {
     "name": "stderr",
     "output_type": "stream",
     "text": [
      "/Users/bl/anaconda3/lib/python3.6/site-packages/ipykernel_launcher.py:1: RuntimeWarning: divide by zero encountered in true_divide\n",
      "  \"\"\"Entry point for launching an IPython kernel.\n"
     ]
    },
    {
     "data": {
      "text/plain": [
       "([array([0., 0., 0., 0., 0., 0., 0., 0., 0., 0.]),\n",
       "  array([13996.,     0.,     0.,     0.,     0.,     0.,     0.,     0.,\n",
       "             0.,     0.]),\n",
       "  array([0., 0., 0., 0., 0., 0., 0., 0., 0., 0.]),\n",
       "  array([0., 0., 0., 0., 0., 0., 0., 0., 0., 0.]),\n",
       "  array([0., 0., 0., 0., 0., 0., 0., 0., 0., 0.]),\n",
       "  array([0., 0., 0., 0., 0., 0., 0., 0., 0., 0.])],\n",
       " array([1.0000e-02, 1.0009e+01, 2.0008e+01, 3.0007e+01, 4.0006e+01,\n",
       "        5.0005e+01, 6.0004e+01, 7.0003e+01, 8.0002e+01, 9.0001e+01,\n",
       "        1.0000e+02]),\n",
       " <a list of 6 Lists of Patches objects>)"
      ]
     },
     "execution_count": 7,
     "metadata": {},
     "output_type": "execute_result"
    },
    {
     "data": {
      "image/png": "[encoded data removed]",
      "text/plain": [
       "<Figure size 432x288 with 1 Axes>"
      ]
     },
     "metadata": {
      "needs_background": "light"
     },
     "output_type": "display_data"
    }
   ],
   "source": [
    "plt.hist(valid_params_out/valid_params, log=True, range=[1e-2, 1e2])"
   ]
  },
  {
   "cell_type": "code",
   "execution_count": 8,
   "metadata": {},
   "outputs": [
    {
     "name": "stderr",
     "output_type": "stream",
     "text": [
      "/Users/bl/anaconda3/lib/python3.6/site-packages/ipykernel_launcher.py:1: RuntimeWarning: divide by zero encountered in true_divide\n",
      "  \"\"\"Entry point for launching an IPython kernel.\n"
     ]
    },
    {
     "data": {
      "text/plain": [
       "array([[-2.77341927e+07,  6.21479640e-01, -7.96950832e+06,\n",
       "                   -inf, -8.10835402e+05, -4.75822369e+06],\n",
       "       [-1.05738088e+08,  5.75666000e-01,  1.69054337e+08,\n",
       "        -4.76254450e+06,  1.50384933e+06, -5.55998867e+05],\n",
       "       [-4.61545173e+11,  3.26333891e-01, -1.73903888e+11,\n",
       "                   -inf,  7.74994534e+10, -1.21261283e+10],\n",
       "       ...,\n",
       "       [-1.00137011e+11,  6.96034679e-01,  4.77156783e+09,\n",
       "        -3.21764940e+08, -5.05055872e+07, -2.89042821e+08],\n",
       "       [-5.47311216e+07,  5.92216720e-01, -5.15807347e+07,\n",
       "        -1.25642225e+07,  1.46456490e+06, -3.40663065e+07],\n",
       "       [-2.98884267e+10,  3.95258186e-01, -1.73749698e+10,\n",
       "        -8.69970368e+09, -3.68274847e+08, -2.21446703e+10]])"
      ]
     },
     "execution_count": 8,
     "metadata": {},
     "output_type": "execute_result"
    }
   ],
   "source": [
    "valid_params_out/valid_params"
   ]
  },
  {
   "cell_type": "code",
   "execution_count": 12,
   "metadata": {},
   "outputs": [
    {
     "name": "stderr",
     "output_type": "stream",
     "text": [
      "/Users/bl/anaconda3/lib/python3.6/site-packages/ipykernel_launcher.py:1: RuntimeWarning: divide by zero encountered in true_divide\n",
      "  \"\"\"Entry point for launching an IPython kernel.\n"
     ]
    },
    {
     "data": {
      "text/plain": [
       "array([[ 0.84411681,  0.54263836,  0.42451602,  1.87996715,  0.48874269,\n",
       "         0.62415898],\n",
       "       [ 1.22083704,  1.32355526,  0.57231586,         inf,        -inf,\n",
       "         0.8152885 ],\n",
       "       [ 0.88998342, -0.07631801,  2.38026798,         inf,  0.46260846,\n",
       "         0.98109595],\n",
       "       ...,\n",
       "       [ 0.77429771,  0.99120088,  0.61843236,  0.84437691,  2.62472302,\n",
       "         1.43603514],\n",
       "       [ 1.070292  ,  0.71496159,  1.07470661,  2.2332868 ,  0.80536634,\n",
       "         0.5685335 ],\n",
       "       [ 1.09524414,        -inf,  0.71385264,  1.06676005,  0.65645754,\n",
       "         1.64878488]])"
      ]
     },
     "execution_count": 12,
     "metadata": {},
     "output_type": "execute_result"
    }
   ],
   "source": [
    "train_params_out/train_params"
   ]
  },
  {
   "cell_type": "markdown",
   "metadata": {},
   "source": [
    "## Verify model reconstruction quality on training and validation (interpolation)"
   ]
  },
  {
   "cell_type": "code",
   "execution_count": 9,
   "metadata": {},
   "outputs": [
    {
     "data": {
      "text/plain": [
       "([array([32659.,     0.,     0.,     0.,     0.,     0.,     0.,     0.,\n",
       "             0.,     0.]),\n",
       "  array([32659.,     0.,     0.,     0.,     0.,     0.,     0.,     0.,\n",
       "             0.,     0.]),\n",
       "  array([32659.,     0.,     0.,     0.,     0.,     0.,     0.,     0.,\n",
       "             0.,     0.]),\n",
       "  array([32659.,     0.,     0.,     0.,     0.,     0.,     0.,     0.,\n",
       "             0.,     0.]),\n",
       "  array([32659.,     0.,     0.,     0.,     0.,     0.,     0.,     0.,\n",
       "             0.,     0.])],\n",
       " array([1.0000e-02, 1.0009e+01, 2.0008e+01, 3.0007e+01, 4.0006e+01,\n",
       "        5.0005e+01, 6.0004e+01, 7.0003e+01, 8.0002e+01, 9.0001e+01,\n",
       "        1.0000e+02]),\n",
       " <a list of 5 Lists of Patches objects>)"
      ]
     },
     "execution_count": 9,
     "metadata": {},
     "output_type": "execute_result"
    },
    {
     "data": {
      "image/png": "[encoded data removed]",
      "text/plain": [
       "<Figure size 432x288 with 1 Axes>"
      ]
     },
     "metadata": {
      "needs_background": "light"
     },
     "output_type": "display_data"
    }
   ],
   "source": [
    "plt.hist(train_models_out/train_models, log=True, range=[1e-2, 1e2])"
   ]
  },
  {
   "cell_type": "code",
   "execution_count": 10,
   "metadata": {},
   "outputs": [
    {
     "name": "stderr",
     "output_type": "stream",
     "text": [
      "/Users/bl/anaconda3/lib/python3.6/site-packages/matplotlib/ticker.py:2241: UserWarning: Data has no positive values, and therefore cannot be log-scaled.\n",
      "  \"Data has no positive values, and therefore cannot be \"\n"
     ]
    },
    {
     "data": {
      "text/plain": [
       "([array([0., 0., 0., 0., 0., 0., 0., 0., 0., 0.]),\n",
       "  array([0., 0., 0., 0., 0., 0., 0., 0., 0., 0.]),\n",
       "  array([0., 0., 0., 0., 0., 0., 0., 0., 0., 0.]),\n",
       "  array([0., 0., 0., 0., 0., 0., 0., 0., 0., 0.]),\n",
       "  array([0., 0., 0., 0., 0., 0., 0., 0., 0., 0.])],\n",
       " array([1.0000e-02, 1.0009e+01, 2.0008e+01, 3.0007e+01, 4.0006e+01,\n",
       "        5.0005e+01, 6.0004e+01, 7.0003e+01, 8.0002e+01, 9.0001e+01,\n",
       "        1.0000e+02]),\n",
       " <a list of 5 Lists of Patches objects>)"
      ]
     },
     "execution_count": 10,
     "metadata": {},
     "output_type": "execute_result"
    },
    {
     "data": {
      "image/png": "[encoded data removed]",
      "text/plain": [
       "<Figure size 432x288 with 1 Axes>"
      ]
     },
     "metadata": {
      "needs_background": "light"
     },
     "output_type": "display_data"
    }
   ],
   "source": [
    "plt.hist(valid_models_out/valid_models, log=True, range=[1e-2, 1e2])"
   ]
  },
  {
   "cell_type": "code",
   "execution_count": 11,
   "metadata": {},
   "outputs": [
    {
     "data": {
      "text/plain": [
       "array([[0.96764563, 0.95824263, 0.95805611, 0.98973074, 0.99953326],\n",
       "       [0.92137565, 0.93484335, 0.93717223, 0.9376504 , 0.94363593],\n",
       "       [0.96334167, 0.97238462, 0.97013358, 0.96779693, 0.96440804],\n",
       "       ...,\n",
       "       [0.95911341, 0.97657208, 0.97812013, 0.97461548, 0.97048207],\n",
       "       [1.00213757, 1.00203301, 1.01523247, 1.00998231, 1.00371886],\n",
       "       [0.94481985, 0.92720379, 0.94105642, 0.97191273, 0.97297658]])"
      ]
     },
     "execution_count": 11,
     "metadata": {},
     "output_type": "execute_result"
    }
   ],
   "source": [
    "train_models_out/train_models"
   ]
  },
  {
   "cell_type": "markdown",
   "metadata": {},
   "source": [
    "## Visualize projection of parameter space onto latent space"
   ]
  },
  {
   "cell_type": "code",
   "execution_count": null,
   "metadata": {},
   "outputs": [],
   "source": []
  }
 ],
 "metadata": {
  "kernelspec": {
   "display_name": "Python 3",
   "language": "python",
   "name": "python3"
  },
  "language_info": {
   "codemirror_mode": {
    "name": "ipython",
    "version": 3
   },
   "file_extension": ".py",
   "mimetype": "text/x-python",
   "name": "python",
   "nbconvert_exporter": "python",
   "pygments_lexer": "ipython3",
   "version": "3.6.6"
  }
 },
 "nbformat": 4,
 "nbformat_minor": 2
}
