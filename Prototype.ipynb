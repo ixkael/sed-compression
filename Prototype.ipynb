{
 "cells": [
  {
   "cell_type": "code",
   "execution_count": 3,
   "metadata": {},
   "outputs": [],
   "source": [
    "%matplotlib inline\n",
    "import matplotlib.pyplot as plt\n",
    "import numpy as np\n",
    "from sedmodels import Sedmodel\n",
    "from mlmodels import train_encoder"
   ]
  },
  {
   "cell_type": "code",
   "execution_count": 4,
   "metadata": {},
   "outputs": [
    {
     "name": "stdout",
     "output_type": "stream",
     "text": [
      "Number of dimensions: 6\n",
      "\n",
      "Filters:\n",
      "  [<class 'sedpy.observate.Filter'>(sdss_u0), <class 'sedpy.observate.Filter'>(sdss_g0), <class 'sedpy.observate.Filter'>(sdss_r0), <class 'sedpy.observate.Filter'>(sdss_i0), <class 'sedpy.observate.Filter'>(sdss_z0)]\n",
      "\n",
      "Free Parameters:\n",
      "  ['zred', 'mass', 'logzsol', 'dust2', 'tage', 'tau']\n",
      "\n",
      "Fixed Parameters:\n",
      "  ['sfh', 'imf_type', 'dust_type']\n"
     ]
    }
   ],
   "source": [
    "model = Sedmodel(add_dust=False, add_neb=False, add_zred=True, add_burst=False)"
   ]
  },
  {
   "cell_type": "markdown",
   "metadata": {},
   "source": [
    "# Compute grid of models"
   ]
  },
  {
   "cell_type": "code",
   "execution_count": null,
   "metadata": {},
   "outputs": [
    {
     "name": "stdout",
     "output_type": "stream",
     "text": [
      "\n",
      "Number of samples: 46656\n"
     ]
    }
   ],
   "source": [
    "if True: # Load model grid\n",
    "\n",
    "    num_samples_per_dim = 6\n",
    "    u_grid = np.load('data/u_grid_'+str(num_samples_per_dim)+'.npy')\n",
    "    theta_grid = np.load('data/theta_grid_'+str(num_samples_per_dim)+'.npy')\n",
    "    phot_grid = np.load('data/phot_grid_'+str(num_samples_per_dim)+'.npy')\n",
    "\n",
    "    num_samples = u_grid.shape[0]\n",
    "    print(\"\\nNumber of samples:\", num_samples)\n",
    "\n",
    "else: # Create and write model grid\n",
    "\n",
    "    if True:\n",
    "        num_samples_per_dim = 6\n",
    "        num_samples = num_samples_per_dim**model.num_dim\n",
    "        grids = np.meshgrid(*[np.linspace(0, 1, num_samples_per_dim) for _ in range(model.num_dim)])\n",
    "        u_grid = np.vstack([x.ravel() for x in grids]).T\n",
    "        del grids\n",
    "    else:\n",
    "        num_samples = 10\n",
    "        num_samples_per_dim = 0\n",
    "        u_grid = np.random.uniform(size=num_samples*model.num_dim).reshape((num_samples, model.num_dim))\n",
    "        \n",
    "    print(\"\\nNumber of samples:\", num_samples)\n",
    "\n",
    "    theta_grid, phot_grid, times = model.compute_photsed_grid(u_grid, plot_sed=True)\n",
    "    \n",
    "    np.save('data/u_grid_'+str(num_samples_per_dim)+'.npy', u_grid)\n",
    "    np.save('data/theta_grid_'+str(num_samples_per_dim)+'.npy', theta_grid)\n",
    "    np.save('data/phot_grid_'+str(num_samples_per_dim)+'.npy', phot_grid)\n",
    "    \n",
    "    print('Done in', np.sum(times), 'sec')\n",
    "    \n",
    "phot_grid = -2.5*np.log10(phot_grid)"
   ]
  },
  {
   "cell_type": "code",
   "execution_count": null,
   "metadata": {},
   "outputs": [],
   "source": [
    "plt.hist(times)"
   ]
  },
  {
   "cell_type": "markdown",
   "metadata": {},
   "source": [
    "## Prepare training and validation"
   ]
  },
  {
   "cell_type": "code",
   "execution_count": null,
   "metadata": {},
   "outputs": [],
   "source": [
    "num_samples = u_grid.shape[0]\n",
    "print(\"Number of samples:\", num_samples)\n",
    "\n",
    "#ind_train = np.arange(0, int(1*n_seds/8))\n",
    "ind_all = np.arange(num_samples)\n",
    "np.random.shuffle(ind_all)\n",
    "\n",
    "split = int(0.8*num_samples)\n",
    "ind_train = ind_all[:split]\n",
    "ind_valid = ind_all[split:]\n",
    "\n",
    "print(\"Number of training points:\", ind_train.size)\n",
    "print(\"Number of validation points:\", ind_valid.size)\n",
    "\n",
    "print(\"Dimension of parameter space\", u_grid.shape[1])\n",
    "print(\"Dimension of model space\", phot_grid.shape[1])\n",
    "\n",
    "train_params, train_models = u_grid[ind_train, :], phot_grid[ind_train, :]\n",
    "valid_params, valid_models = theta_grid[ind_valid, :], phot_grid[ind_valid, :]"
   ]
  },
  {
   "cell_type": "markdown",
   "metadata": {},
   "source": [
    "# Auto-encoder"
   ]
  },
  {
   "cell_type": "code",
   "execution_count": null,
   "metadata": {},
   "outputs": [],
   "source": [
    "batch_size = 512\n",
    "keep_prob = 0.8\n",
    "num_epoch = 10000\n",
    "num_latent = 5\n",
    "learning_rate = 0.01\n",
    "num_hiddens = [1000]"
   ]
  },
  {
   "cell_type": "code",
   "execution_count": null,
   "metadata": {},
   "outputs": [],
   "source": [
    "plt.hist(train_models, log=True);"
   ]
  },
  {
   "cell_type": "code",
   "execution_count": null,
   "metadata": {},
   "outputs": [],
   "source": [
    "train_latent, train_models_out, valid_latent, valid_models_out = \\\n",
    "    train_encoder(train_params, train_models, valid_params, valid_models,\n",
    "                  num_latent, num_hiddens, num_epoch, learning_rate, batch_size, keep_prob)"
   ]
  },
  {
   "cell_type": "markdown",
   "metadata": {},
   "source": [
    "## Verify reconstruction quality on training and validation (interpolation)"
   ]
  },
  {
   "cell_type": "code",
   "execution_count": null,
   "metadata": {},
   "outputs": [],
   "source": [
    "plt.hist(train_models_out/train_models, log=True, range=[1e-2, 1e2])"
   ]
  },
  {
   "cell_type": "code",
   "execution_count": null,
   "metadata": {},
   "outputs": [],
   "source": [
    "train_models_out/train_models"
   ]
  },
  {
   "cell_type": "markdown",
   "metadata": {},
   "source": [
    "## Visualize projection of parameter space onto latent space"
   ]
  },
  {
   "cell_type": "code",
   "execution_count": null,
   "metadata": {},
   "outputs": [],
   "source": []
  }
 ],
 "metadata": {
  "kernelspec": {
   "display_name": "Python 3",
   "language": "python",
   "name": "python3"
  },
  "language_info": {
   "codemirror_mode": {
    "name": "ipython",
    "version": 3
   },
   "file_extension": ".py",
   "mimetype": "text/x-python",
   "name": "python",
   "nbconvert_exporter": "python",
   "pygments_lexer": "ipython3",
   "version": "3.6.6"
  }
 },
 "nbformat": 4,
 "nbformat_minor": 2
}
